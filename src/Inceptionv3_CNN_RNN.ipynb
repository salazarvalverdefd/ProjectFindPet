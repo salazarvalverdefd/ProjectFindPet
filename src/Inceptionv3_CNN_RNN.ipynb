{
  "nbformat": 4,
  "nbformat_minor": 0,
  "metadata": {
    "colab": {
      "name": "Inceptionv3_CNN-RNN.ipynb",
      "provenance": [],
      "collapsed_sections": [],
      "include_colab_link": true
    },
    "kernelspec": {
      "name": "python3",
      "display_name": "Python 3"
    },
    "language_info": {
      "name": "python"
    },
    "accelerator": "GPU"
  },
  "cells": [
    {
      "cell_type": "markdown",
      "metadata": {
        "id": "view-in-github",
        "colab_type": "text"
      },
      "source": [
        "<a href=\"https://colab.research.google.com/github/salazarvalverdefd/ProjectFindPet/blob/main/src/Inceptionv3_CNN_RNN.ipynb\" target=\"_parent\"><img src=\"https://colab.research.google.com/assets/colab-badge.svg\" alt=\"Open In Colab\"/></a>"
      ]
    },
    {
      "cell_type": "code",
      "metadata": {
        "colab": {
          "base_uri": "https://localhost:8080/"
        },
        "id": "ff9PVOGjOrTh",
        "outputId": "0d7c2d59-8f14-4be3-aa06-e8deffdf8f91"
      },
      "source": [
        "from google.colab import drive\n",
        "drive.mount('/content/drive')"
      ],
      "execution_count": null,
      "outputs": [
        {
          "output_type": "stream",
          "name": "stdout",
          "text": [
            "Mounted at /content/drive\n"
          ]
        }
      ]
    },
    {
      "cell_type": "code",
      "metadata": {
        "id": "cXjUvDBaOza7"
      },
      "source": [
        "import os\n",
        "PATH_ORIGEN = \"/content/drive/MyDrive/Proyecto-MINSA/Dataset/Clasificacion/HGG-LGG\"\n",
        "os.chdir(PATH_ORIGEN)"
      ],
      "execution_count": null,
      "outputs": []
    },
    {
      "cell_type": "code",
      "metadata": {
        "colab": {
          "base_uri": "https://localhost:8080/"
        },
        "id": "pVRG4mFV3QzR",
        "outputId": "21487f81-6f2e-4b9b-bdaf-b5a3143d1c8d"
      },
      "source": [
        "pip install tensorflow-addons"
      ],
      "execution_count": null,
      "outputs": [
        {
          "output_type": "stream",
          "name": "stdout",
          "text": [
            "Collecting tensorflow-addons\n",
            "  Downloading tensorflow_addons-0.14.0-cp37-cp37m-manylinux_2_12_x86_64.manylinux2010_x86_64.whl (1.1 MB)\n",
            "\u001b[K     |████████████████████████████████| 1.1 MB 5.1 MB/s \n",
            "\u001b[?25hRequirement already satisfied: typeguard>=2.7 in /usr/local/lib/python3.7/dist-packages (from tensorflow-addons) (2.7.1)\n",
            "Installing collected packages: tensorflow-addons\n",
            "Successfully installed tensorflow-addons-0.14.0\n"
          ]
        }
      ]
    },
    {
      "cell_type": "code",
      "metadata": {
        "id": "oA7znYpH5ejV"
      },
      "source": [
        "from tensorflow import keras\n",
        "from imutils import paths\n",
        "\n",
        "import matplotlib.pyplot as plt\n",
        "import tensorflow as tf\n",
        "import pandas as pd\n",
        "import numpy as np\n",
        "import imageio\n",
        "import cv2\n",
        "import os\n",
        "from random import shuffle\n",
        "import sys\n",
        "import tensorflow_addons as tfa"
      ],
      "execution_count": null,
      "outputs": []
    },
    {
      "cell_type": "code",
      "metadata": {
        "id": "LHjQiUr1FF6V"
      },
      "source": [
        "IMG_SIZE = 224\n",
        "BATCH_SIZE = 64\n",
        "EPOCHS = 10\n",
        "\n",
        "MAX_SEQ_LENGTH = 155\n",
        "NUM_FEATURES = 2048\n",
        "VALIDATION_SPLIT = 0.1\n",
        "NUM_CLASSES = 2"
      ],
      "execution_count": null,
      "outputs": []
    },
    {
      "cell_type": "code",
      "metadata": {
        "id": "RwUbbpx4E8ux"
      },
      "source": [
        "def load_video(path, max_frames=0, resize=(IMG_SIZE, IMG_SIZE)):\n",
        "    cap = cv2.VideoCapture(path)\n",
        "    frames = []\n",
        "    try:\n",
        "        while True:\n",
        "            ret, frame = cap.read()\n",
        "            if not ret:\n",
        "                break\n",
        "            #frame = crop_center_square(frame)\n",
        "            frame = cv2.resize(frame, resize)\n",
        "            frame = frame[:, :, [2, 1, 0]]\n",
        "            frames.append(frame)\n",
        "\n",
        "            if len(frames) == max_frames:\n",
        "                break\n",
        "    finally:\n",
        "        cap.release()\n",
        "    return np.array(frames)"
      ],
      "execution_count": null,
      "outputs": []
    },
    {
      "cell_type": "code",
      "metadata": {
        "colab": {
          "base_uri": "https://localhost:8080/"
        },
        "id": "eiM_hag4E_bo",
        "outputId": "a368d473-3068-44b6-f662-0d54d2693991"
      },
      "source": [
        "\n",
        "def build_feature_extractor():\n",
        "    feature_extractor = keras.applications.InceptionV3(\n",
        "        weights=\"imagenet\",\n",
        "        include_top=False,\n",
        "        pooling=\"avg\",\n",
        "        input_shape=(IMG_SIZE, IMG_SIZE, 3),\n",
        "    )\n",
        "    preprocess_input = keras.applications.inception_v3.preprocess_input\n",
        "\n",
        "    inputs = keras.Input((IMG_SIZE, IMG_SIZE, 3))\n",
        "    preprocessed = preprocess_input(inputs)\n",
        "\n",
        "    outputs = feature_extractor(preprocessed)\n",
        "    return keras.Model(inputs, outputs, name=\"feature_extractor\")\n",
        "\n",
        "\n",
        "feature_extractor = build_feature_extractor()"
      ],
      "execution_count": null,
      "outputs": [
        {
          "output_type": "stream",
          "name": "stdout",
          "text": [
            "Downloading data from https://storage.googleapis.com/tensorflow/keras-applications/inception_v3/inception_v3_weights_tf_dim_ordering_tf_kernels_notop.h5\n",
            "87916544/87910968 [==============================] - 1s 0us/step\n",
            "87924736/87910968 [==============================] - 1s 0us/step\n"
          ]
        }
      ]
    },
    {
      "cell_type": "code",
      "metadata": {
        "colab": {
          "base_uri": "https://localhost:8080/"
        },
        "id": "WZ22DaAhtXLC",
        "outputId": "86aa3288-59e9-459e-b357-07458f9e4a00"
      },
      "source": [
        "feature_extractor.summary()"
      ],
      "execution_count": null,
      "outputs": [
        {
          "output_type": "stream",
          "name": "stdout",
          "text": [
            "Model: \"feature_extractor\"\n",
            "_________________________________________________________________\n",
            "Layer (type)                 Output Shape              Param #   \n",
            "=================================================================\n",
            "input_2 (InputLayer)         [(None, 224, 224, 3)]     0         \n",
            "_________________________________________________________________\n",
            "tf.math.truediv (TFOpLambda) (None, 224, 224, 3)       0         \n",
            "_________________________________________________________________\n",
            "tf.math.subtract (TFOpLambda (None, 224, 224, 3)       0         \n",
            "_________________________________________________________________\n",
            "inception_v3 (Functional)    (None, 2048)              21802784  \n",
            "=================================================================\n",
            "Total params: 21,802,784\n",
            "Trainable params: 21,768,352\n",
            "Non-trainable params: 34,432\n",
            "_________________________________________________________________\n"
          ]
        }
      ]
    },
    {
      "cell_type": "code",
      "metadata": {
        "id": "Yg3fvNa-KVuv"
      },
      "source": [
        "in_dir = \"/content/drive/MyDrive/Proyecto-MINSA/Dataset/Clasificacion/HGG-LGG/AVI\""
      ],
      "execution_count": null,
      "outputs": []
    },
    {
      "cell_type": "code",
      "metadata": {
        "id": "ePwKkhDAKu6U"
      },
      "source": [
        "def label_video_names(in_dir):\n",
        "    \"\"\"\n",
        "    Funcion que categoriza los datos(videos) de acuerdo al nombre que llevan\n",
        "    Parameters\n",
        "    ----------\n",
        "    in_dir : carpeta donde se encuentran los videos.\n",
        "    Returns\n",
        "    -------\n",
        "    names : lista que contiene los nombres de los videos\n",
        "    labels : lista que contiene la categoria de los video,\n",
        "    ya sea (1 = HGG) o (0=LGG).\n",
        "    \"\"\"\n",
        "    names = []\n",
        "    labels = []\n",
        "    \n",
        "    for _ , _ , file_names in os.walk(in_dir):\n",
        "      for file_name in file_names:\n",
        "          \n",
        "        if file_name[0:3] == 'HGG':\n",
        "            labels.append([1,0])\n",
        "            names.append(file_name)\n",
        "            \n",
        "        elif file_name[0:3] == 'LGG':\n",
        "            labels.append([0,1])\n",
        "            names.append(file_name)      \n",
        "    \n",
        "    c = list(zip(names,labels)) \n",
        "    shuffle(c)\n",
        "    names, labels = zip(*c)\n",
        "            \n",
        "    return names, labels\n",
        "def print_progress(count, max_count):\n",
        "    \n",
        "    # Porcentaje de completado.\n",
        "    pct_complete = count / max_count\n",
        "    msg = \"\\r- Progreso: {0:.1%}\".format(pct_complete)\n",
        "    sys.stdout.write(msg)\n",
        "    sys.stdout.flush()"
      ],
      "execution_count": null,
      "outputs": []
    },
    {
      "cell_type": "code",
      "metadata": {
        "id": "4_hygjYp42Z0"
      },
      "source": [
        "def prepare_all_videos(in_dir):\n",
        "    video_paths, labels = label_video_names(in_dir)\n",
        "    num_samples = len(video_paths)\n",
        "    labels = np.array(labels, dtype=\"float32\")\n",
        "    # `frame_masks` and `frame_features` are what we will feed to our sequence model.\n",
        "    # `frame_masks` will contain a bunch of booleans denoting if a timestep is\n",
        "    # masked with padding or not.\n",
        "    frame_masks = np.zeros(shape=(num_samples, MAX_SEQ_LENGTH), dtype=\"bool\")\n",
        "    frame_features = np.zeros(\n",
        "        shape=(num_samples, MAX_SEQ_LENGTH, NUM_FEATURES), dtype=\"float32\"\n",
        "    )\n",
        "\n",
        "    # For each video.\n",
        "    for idx, path in enumerate(video_paths):\n",
        "        # Gather all its frames and add a batch dimension.\n",
        "        frames = load_video(os.path.join(in_dir, path))\n",
        "        frames = frames[None, ...]\n",
        "\n",
        "        # Initialize placeholders to store the masks and features of the current video.\n",
        "        temp_frame_mask = np.zeros(shape=(1, MAX_SEQ_LENGTH,), dtype=\"bool\")\n",
        "        temp_frame_features = np.zeros(\n",
        "            shape=(1, MAX_SEQ_LENGTH, NUM_FEATURES), dtype=\"float32\"\n",
        "        )\n",
        "\n",
        "        # Extract features from the frames of the current video.\n",
        "        for i, batch in enumerate(frames):\n",
        "            video_length = batch.shape[0]\n",
        "            length = min(MAX_SEQ_LENGTH, video_length)\n",
        "            for j in range(length):\n",
        "                temp_frame_features[i, j, :] = feature_extractor.predict(\n",
        "                    batch[None, j, :]\n",
        "                )\n",
        "            temp_frame_mask[i, :length] = 1  # 1 = not masked, 0 = masked\n",
        "\n",
        "        frame_features[idx,] = temp_frame_features.squeeze()\n",
        "        frame_masks[idx,] = temp_frame_mask.squeeze()\n",
        "        print_progress(idx+1, num_samples)\n",
        "        \n",
        "\n",
        "    return (frame_features, frame_masks), labels"
      ],
      "execution_count": null,
      "outputs": []
    },
    {
      "cell_type": "code",
      "metadata": {
        "colab": {
          "base_uri": "https://localhost:8080/"
        },
        "id": "zcV_LMVwKQt5",
        "outputId": "7a56f683-8cce-4000-babe-72ab75a83b79"
      },
      "source": [
        "\n",
        "data, labels = prepare_all_videos(in_dir)\n",
        "np.save('./inceptionV3/data.npy',data[0])\n",
        "np.save('./inceptionV3/masks.npy',data[1])\n",
        "np.save('./inceptionV3/labels.npy',labels)\n",
        "print()\n",
        "print(f\"Frame features: {data[0].shape}\")\n",
        "print(f\"Frame masks: {data[1].shape}\")"
      ],
      "execution_count": null,
      "outputs": [
        {
          "output_type": "stream",
          "name": "stdout",
          "text": [
            "- Progreso: 100.0%\n",
            "Frame features: (369, 155, 2048)\n",
            "Frame masks: (369, 155)\n",
            "CPU times: user 1h 13min 59s, sys: 2min 12s, total: 1h 16min 11s\n",
            "Wall time: 1h 22min 32s\n"
          ]
        }
      ]
    },
    {
      "cell_type": "code",
      "metadata": {
        "colab": {
          "base_uri": "https://localhost:8080/"
        },
        "id": "Djc5HToOODHw",
        "outputId": "65f9ef4c-ef3f-47a1-ff8d-00b559d23d79"
      },
      "source": [
        "# Utility for our sequence model.\n",
        "def get_sequence_model():\n",
        "\n",
        "    frame_features_input = keras.Input((MAX_SEQ_LENGTH, NUM_FEATURES))\n",
        "    mask_input = keras.Input((MAX_SEQ_LENGTH,), dtype=\"bool\")\n",
        "\n",
        "    # Refer to the following tutorial to understand the significance of using `mask`:\n",
        "    # https://keras.io/api/layers/recurrent_layers/gru/\n",
        "    x = keras.layers.GRU(16, return_sequences=True)(\n",
        "        frame_features_input, mask=mask_input\n",
        "    )\n",
        "    x = keras.layers.GRU(8)(x)\n",
        "    x = keras.layers.Dropout(0.4)(x)\n",
        "    x = keras.layers.Dense(8, activation=\"relu\")(x)\n",
        "    output = keras.layers.Dense(NUM_CLASSES, activation=\"softmax\")(x)\n",
        "\n",
        "    rnn_model = keras.Model([frame_features_input, mask_input], output)\n",
        "\n",
        "    \"\"\"rnn_model.compile(\n",
        "        loss=\"sparse_categorical_crossentropy\", optimizer=\"adam\", metrics=[\"accuracy\"]\n",
        "    )\"\"\"\n",
        "    rnn_model.compile(\n",
        "        loss=\"categorical_crossentropy\", optimizer=\"adam\", metrics=[\"accuracy\"]\n",
        "    )\n",
        "    return rnn_model\n",
        "\n",
        "\n",
        "# Utility for running experiments.\n",
        "def run_experiment():\n",
        "    filepath = os.path.join(PATH_ORIGEN, 'inceptionV3')\n",
        "    checkpoint = keras.callbacks.ModelCheckpoint(\n",
        "        filepath, save_weights_only=True, save_best_only=True, verbose=1\n",
        "    )\n",
        "\n",
        "    seq_model = get_sequence_model()\n",
        "    history = seq_model.fit(\n",
        "        [data[0], data[1]],\n",
        "        labels,\n",
        "        validation_split=VALIDATION_SPLIT,\n",
        "        epochs=EPOCHS,\n",
        "        batch_size = BATCH_SIZE,\n",
        "        callbacks=[checkpoint],\n",
        "    )\n",
        "\n",
        "    seq_model.load_weights(filepath)\n",
        "    #_, accuracy = seq_model.evaluate([test_data[0], test_data[1]], test_labels)\n",
        "    #print(f\"Test accuracy: {round(accuracy * 100, 2)}%\")\n",
        "\n",
        "    return history, seq_model\n",
        "\n",
        "\n",
        "_, sequence_model = run_experiment()"
      ],
      "execution_count": null,
      "outputs": [
        {
          "output_type": "stream",
          "name": "stdout",
          "text": [
            "Epoch 1/10\n",
            "6/6 [==============================] - 13s 739ms/step - loss: 0.6635 - accuracy: 0.6114 - val_loss: 0.5747 - val_accuracy: 0.7568\n",
            "\n",
            "Epoch 00001: val_loss improved from inf to 0.57473, saving model to /content/drive/MyDrive/Proyecto-MINSA/Dataset/Clasificacion/HGG-LGG/inceptionV3\n",
            "Epoch 2/10\n",
            "6/6 [==============================] - 1s 105ms/step - loss: 0.5634 - accuracy: 0.7982 - val_loss: 0.5601 - val_accuracy: 0.7568\n",
            "\n",
            "Epoch 00002: val_loss improved from 0.57473 to 0.56009, saving model to /content/drive/MyDrive/Proyecto-MINSA/Dataset/Clasificacion/HGG-LGG/inceptionV3\n",
            "Epoch 3/10\n",
            "6/6 [==============================] - 1s 112ms/step - loss: 0.5433 - accuracy: 0.7922 - val_loss: 0.5563 - val_accuracy: 0.7568\n",
            "\n",
            "Epoch 00003: val_loss improved from 0.56009 to 0.55631, saving model to /content/drive/MyDrive/Proyecto-MINSA/Dataset/Clasificacion/HGG-LGG/inceptionV3\n",
            "Epoch 4/10\n",
            "6/6 [==============================] - 1s 105ms/step - loss: 0.5276 - accuracy: 0.7922 - val_loss: 0.5549 - val_accuracy: 0.7568\n",
            "\n",
            "Epoch 00004: val_loss improved from 0.55631 to 0.55491, saving model to /content/drive/MyDrive/Proyecto-MINSA/Dataset/Clasificacion/HGG-LGG/inceptionV3\n",
            "Epoch 5/10\n",
            "6/6 [==============================] - 1s 103ms/step - loss: 0.5247 - accuracy: 0.7952 - val_loss: 0.5547 - val_accuracy: 0.7568\n",
            "\n",
            "Epoch 00005: val_loss improved from 0.55491 to 0.55466, saving model to /content/drive/MyDrive/Proyecto-MINSA/Dataset/Clasificacion/HGG-LGG/inceptionV3\n",
            "Epoch 6/10\n",
            "6/6 [==============================] - 1s 99ms/step - loss: 0.4916 - accuracy: 0.7982 - val_loss: 0.5552 - val_accuracy: 0.7568\n",
            "\n",
            "Epoch 00006: val_loss did not improve from 0.55466\n",
            "Epoch 7/10\n",
            "6/6 [==============================] - 1s 97ms/step - loss: 0.5080 - accuracy: 0.8012 - val_loss: 0.5563 - val_accuracy: 0.7568\n",
            "\n",
            "Epoch 00007: val_loss did not improve from 0.55466\n",
            "Epoch 8/10\n",
            "6/6 [==============================] - 1s 105ms/step - loss: 0.5340 - accuracy: 0.7952 - val_loss: 0.5572 - val_accuracy: 0.7568\n",
            "\n",
            "Epoch 00008: val_loss did not improve from 0.55466\n",
            "Epoch 9/10\n",
            "6/6 [==============================] - 1s 99ms/step - loss: 0.5319 - accuracy: 0.7982 - val_loss: 0.5560 - val_accuracy: 0.7568\n",
            "\n",
            "Epoch 00009: val_loss did not improve from 0.55466\n",
            "Epoch 10/10\n",
            "6/6 [==============================] - 1s 98ms/step - loss: 0.4942 - accuracy: 0.7922 - val_loss: 0.5566 - val_accuracy: 0.7568\n",
            "\n",
            "Epoch 00010: val_loss did not improve from 0.55466\n"
          ]
        }
      ]
    },
    {
      "cell_type": "code",
      "metadata": {
        "id": "adofFNULuVsn",
        "colab": {
          "base_uri": "https://localhost:8080/"
        },
        "outputId": "fd670c4b-6df6-4194-c5dd-41836818e0e8"
      },
      "source": [
        "%%time\n",
        "data = np.load('./inceptionV3/data.npy'), np.load('./inceptionV3/masks.npy')\n",
        "labels = np.load('./inceptionV3/labels.npy')"
      ],
      "execution_count": null,
      "outputs": [
        {
          "output_type": "stream",
          "name": "stdout",
          "text": [
            "CPU times: user 25.9 ms, sys: 335 ms, total: 361 ms\n",
            "Wall time: 6.08 s\n"
          ]
        }
      ]
    },
    {
      "cell_type": "code",
      "metadata": {
        "id": "gIp3T4WevxQz"
      },
      "source": [
        "BATCH_SIZE = 16\n",
        "EPOCHS = 100"
      ],
      "execution_count": null,
      "outputs": []
    },
    {
      "cell_type": "code",
      "metadata": {
        "colab": {
          "base_uri": "https://localhost:8080/"
        },
        "id": "BDkJ1ddpvoVN",
        "outputId": "077f9e37-3cb3-4cff-ea53-102aff98c7a9"
      },
      "source": [
        "%%time\n",
        "# Utility for our sequence model.\n",
        "def get_sequence_model():\n",
        "\n",
        "    frame_features_input = keras.Input((MAX_SEQ_LENGTH, NUM_FEATURES))\n",
        "    mask_input = keras.Input((MAX_SEQ_LENGTH,), dtype=\"bool\")\n",
        "\n",
        "    # Refer to the following tutorial to understand the significance of using `mask`:\n",
        "    # https://keras.io/api/layers/recurrent_layers/gru/\n",
        "    x = keras.layers.GRU(16, return_sequences=True)(\n",
        "        frame_features_input, mask=mask_input\n",
        "    )\n",
        "    x = keras.layers.GRU(8)(x)\n",
        "    x = keras.layers.Dropout(0.4)(x)\n",
        "    x = keras.layers.Dense(8, activation=\"relu\")(x)\n",
        "    output = keras.layers.Dense(NUM_CLASSES, activation=\"softmax\")(x)\n",
        "\n",
        "    rnn_model = keras.Model([frame_features_input, mask_input], output)\n",
        "\n",
        "    \"\"\"rnn_model.compile(\n",
        "        loss=\"sparse_categorical_crossentropy\", optimizer=\"adam\", metrics=[\"accuracy\"]\n",
        "    )\"\"\"\n",
        "    rnn_model.compile(\n",
        "        loss=\"categorical_crossentropy\", optimizer=\"adam\", metrics=[\"accuracy\", tf.keras.metrics.Precision(),\n",
        "                             tf.keras.metrics.Recall(),tfa.metrics.F1Score(num_classes = 2)]\n",
        "    )\n",
        "    return rnn_model\n",
        "\n",
        "\n",
        "# Utility for running experiments.\n",
        "def run_experiment():\n",
        "    filepath = os.path.join(PATH_ORIGEN, 'inceptionV3/best_model.hdf5')#'inceptionV3/weights.{epoch:02d}-{val_loss:.2f}.hdf5')\n",
        "    checkpoint = keras.callbacks.ModelCheckpoint(\n",
        "        filepath, save_weights_only=True, save_best_only=True, verbose=1\n",
        "    )\n",
        "\n",
        "    seq_model = get_sequence_model()\n",
        "    history = seq_model.fit(\n",
        "        [data[0], data[1]],\n",
        "        labels,\n",
        "        validation_split=VALIDATION_SPLIT,\n",
        "        epochs=EPOCHS,\n",
        "        batch_size = BATCH_SIZE,\n",
        "        callbacks=[checkpoint],\n",
        "    )\n",
        "\n",
        "    seq_model.load_weights(filepath)\n",
        "    #_, accuracy = seq_model.evaluate([test_data[0], test_data[1]], test_labels)\n",
        "    #print(f\"Test accuracy: {round(accuracy * 100, 2)}%\")\n",
        "\n",
        "    return history, seq_model\n",
        "\n",
        "\n",
        "history, sequence_model = run_experiment()"
      ],
      "execution_count": null,
      "outputs": [
        {
          "output_type": "stream",
          "name": "stdout",
          "text": [
            "Epoch 1/100\n",
            "21/21 [==============================] - 12s 203ms/step - loss: 0.5987 - accuracy: 0.7530 - precision_2: 0.7530 - recall_2: 0.7530 - f1_score: 0.5007 - val_loss: 0.5788 - val_accuracy: 0.7568 - val_precision_2: 0.7568 - val_recall_2: 0.7568 - val_f1_score: 0.4308\n",
            "\n",
            "Epoch 00001: val_loss improved from inf to 0.57877, saving model to /content/drive/MyDrive/Proyecto-MINSA/Dataset/Clasificacion/HGG-LGG/inceptionV3/best_model.hdf5\n",
            "Epoch 2/100\n",
            "21/21 [==============================] - 1s 68ms/step - loss: 0.5434 - accuracy: 0.7982 - precision_2: 0.7982 - recall_2: 0.7982 - f1_score: 0.4582 - val_loss: 0.5576 - val_accuracy: 0.7568 - val_precision_2: 0.7568 - val_recall_2: 0.7568 - val_f1_score: 0.4308\n",
            "\n",
            "Epoch 00002: val_loss improved from 0.57877 to 0.55763, saving model to /content/drive/MyDrive/Proyecto-MINSA/Dataset/Clasificacion/HGG-LGG/inceptionV3/best_model.hdf5\n",
            "Epoch 3/100\n",
            "21/21 [==============================] - 1s 69ms/step - loss: 0.5184 - accuracy: 0.7952 - precision_2: 0.7952 - recall_2: 0.7952 - f1_score: 0.4570 - val_loss: 0.5549 - val_accuracy: 0.7568 - val_precision_2: 0.7568 - val_recall_2: 0.7568 - val_f1_score: 0.4308\n",
            "\n",
            "Epoch 00003: val_loss improved from 0.55763 to 0.55486, saving model to /content/drive/MyDrive/Proyecto-MINSA/Dataset/Clasificacion/HGG-LGG/inceptionV3/best_model.hdf5\n",
            "Epoch 4/100\n",
            "21/21 [==============================] - 1s 68ms/step - loss: 0.5190 - accuracy: 0.7922 - precision_2: 0.7922 - recall_2: 0.7922 - f1_score: 0.4420 - val_loss: 0.5545 - val_accuracy: 0.7568 - val_precision_2: 0.7568 - val_recall_2: 0.7568 - val_f1_score: 0.4308\n",
            "\n",
            "Epoch 00004: val_loss improved from 0.55486 to 0.55445, saving model to /content/drive/MyDrive/Proyecto-MINSA/Dataset/Clasificacion/HGG-LGG/inceptionV3/best_model.hdf5\n",
            "Epoch 5/100\n",
            "21/21 [==============================] - 1s 67ms/step - loss: 0.5224 - accuracy: 0.7922 - precision_2: 0.7922 - recall_2: 0.7922 - f1_score: 0.4420 - val_loss: 0.5542 - val_accuracy: 0.7568 - val_precision_2: 0.7568 - val_recall_2: 0.7568 - val_f1_score: 0.4308\n",
            "\n",
            "Epoch 00005: val_loss improved from 0.55445 to 0.55421, saving model to /content/drive/MyDrive/Proyecto-MINSA/Dataset/Clasificacion/HGG-LGG/inceptionV3/best_model.hdf5\n",
            "Epoch 6/100\n",
            "21/21 [==============================] - 1s 68ms/step - loss: 0.5287 - accuracy: 0.7982 - precision_2: 0.7982 - recall_2: 0.7982 - f1_score: 0.4439 - val_loss: 0.5545 - val_accuracy: 0.7568 - val_precision_2: 0.7568 - val_recall_2: 0.7568 - val_f1_score: 0.4308\n",
            "\n",
            "Epoch 00006: val_loss did not improve from 0.55421\n",
            "Epoch 7/100\n",
            "21/21 [==============================] - 1s 68ms/step - loss: 0.5233 - accuracy: 0.7982 - precision_2: 0.7982 - recall_2: 0.7982 - f1_score: 0.4439 - val_loss: 0.5537 - val_accuracy: 0.7568 - val_precision_2: 0.7568 - val_recall_2: 0.7568 - val_f1_score: 0.4308\n",
            "\n",
            "Epoch 00007: val_loss improved from 0.55421 to 0.55373, saving model to /content/drive/MyDrive/Proyecto-MINSA/Dataset/Clasificacion/HGG-LGG/inceptionV3/best_model.hdf5\n",
            "Epoch 8/100\n",
            "21/21 [==============================] - 1s 67ms/step - loss: 0.5288 - accuracy: 0.7982 - precision_2: 0.7982 - recall_2: 0.7982 - f1_score: 0.4439 - val_loss: 0.5523 - val_accuracy: 0.7568 - val_precision_2: 0.7568 - val_recall_2: 0.7568 - val_f1_score: 0.4308\n",
            "\n",
            "Epoch 00008: val_loss improved from 0.55373 to 0.55230, saving model to /content/drive/MyDrive/Proyecto-MINSA/Dataset/Clasificacion/HGG-LGG/inceptionV3/best_model.hdf5\n",
            "Epoch 9/100\n",
            "21/21 [==============================] - 1s 69ms/step - loss: 0.5097 - accuracy: 0.7982 - precision_2: 0.7982 - recall_2: 0.7982 - f1_score: 0.4439 - val_loss: 0.5487 - val_accuracy: 0.7568 - val_precision_2: 0.7568 - val_recall_2: 0.7568 - val_f1_score: 0.4308\n",
            "\n",
            "Epoch 00009: val_loss improved from 0.55230 to 0.54873, saving model to /content/drive/MyDrive/Proyecto-MINSA/Dataset/Clasificacion/HGG-LGG/inceptionV3/best_model.hdf5\n",
            "Epoch 10/100\n",
            "21/21 [==============================] - 1s 67ms/step - loss: 0.5148 - accuracy: 0.7982 - precision_2: 0.7982 - recall_2: 0.7982 - f1_score: 0.4439 - val_loss: 0.5462 - val_accuracy: 0.7568 - val_precision_2: 0.7568 - val_recall_2: 0.7568 - val_f1_score: 0.4308\n",
            "\n",
            "Epoch 00010: val_loss improved from 0.54873 to 0.54619, saving model to /content/drive/MyDrive/Proyecto-MINSA/Dataset/Clasificacion/HGG-LGG/inceptionV3/best_model.hdf5\n",
            "Epoch 11/100\n",
            "21/21 [==============================] - 1s 67ms/step - loss: 0.5052 - accuracy: 0.7982 - precision_2: 0.7982 - recall_2: 0.7982 - f1_score: 0.4439 - val_loss: 0.5437 - val_accuracy: 0.7568 - val_precision_2: 0.7568 - val_recall_2: 0.7568 - val_f1_score: 0.4308\n",
            "\n",
            "Epoch 00011: val_loss improved from 0.54619 to 0.54367, saving model to /content/drive/MyDrive/Proyecto-MINSA/Dataset/Clasificacion/HGG-LGG/inceptionV3/best_model.hdf5\n",
            "Epoch 12/100\n",
            "21/21 [==============================] - 1s 69ms/step - loss: 0.5110 - accuracy: 0.7982 - precision_2: 0.7982 - recall_2: 0.7982 - f1_score: 0.4439 - val_loss: 0.5500 - val_accuracy: 0.7568 - val_precision_2: 0.7568 - val_recall_2: 0.7568 - val_f1_score: 0.4308\n",
            "\n",
            "Epoch 00012: val_loss did not improve from 0.54367\n",
            "Epoch 13/100\n",
            "21/21 [==============================] - 1s 68ms/step - loss: 0.4912 - accuracy: 0.7982 - precision_2: 0.7982 - recall_2: 0.7982 - f1_score: 0.4439 - val_loss: 0.5366 - val_accuracy: 0.7568 - val_precision_2: 0.7568 - val_recall_2: 0.7568 - val_f1_score: 0.4308\n",
            "\n",
            "Epoch 00013: val_loss improved from 0.54367 to 0.53659, saving model to /content/drive/MyDrive/Proyecto-MINSA/Dataset/Clasificacion/HGG-LGG/inceptionV3/best_model.hdf5\n",
            "Epoch 14/100\n",
            "21/21 [==============================] - 1s 68ms/step - loss: 0.4904 - accuracy: 0.7982 - precision_2: 0.7982 - recall_2: 0.7982 - f1_score: 0.4439 - val_loss: 0.5276 - val_accuracy: 0.7568 - val_precision_2: 0.7568 - val_recall_2: 0.7568 - val_f1_score: 0.4308\n",
            "\n",
            "Epoch 00014: val_loss improved from 0.53659 to 0.52755, saving model to /content/drive/MyDrive/Proyecto-MINSA/Dataset/Clasificacion/HGG-LGG/inceptionV3/best_model.hdf5\n",
            "Epoch 15/100\n",
            "21/21 [==============================] - 1s 68ms/step - loss: 0.4772 - accuracy: 0.7982 - precision_2: 0.7982 - recall_2: 0.7982 - f1_score: 0.4439 - val_loss: 0.5184 - val_accuracy: 0.7568 - val_precision_2: 0.7568 - val_recall_2: 0.7568 - val_f1_score: 0.4308\n",
            "\n",
            "Epoch 00015: val_loss improved from 0.52755 to 0.51839, saving model to /content/drive/MyDrive/Proyecto-MINSA/Dataset/Clasificacion/HGG-LGG/inceptionV3/best_model.hdf5\n",
            "Epoch 16/100\n",
            "21/21 [==============================] - 1s 69ms/step - loss: 0.4672 - accuracy: 0.7982 - precision_2: 0.7982 - recall_2: 0.7982 - f1_score: 0.4439 - val_loss: 0.5096 - val_accuracy: 0.7568 - val_precision_2: 0.7568 - val_recall_2: 0.7568 - val_f1_score: 0.4308\n",
            "\n",
            "Epoch 00016: val_loss improved from 0.51839 to 0.50960, saving model to /content/drive/MyDrive/Proyecto-MINSA/Dataset/Clasificacion/HGG-LGG/inceptionV3/best_model.hdf5\n",
            "Epoch 17/100\n",
            "21/21 [==============================] - 1s 70ms/step - loss: 0.4596 - accuracy: 0.7982 - precision_2: 0.7982 - recall_2: 0.7982 - f1_score: 0.4439 - val_loss: 0.5135 - val_accuracy: 0.7568 - val_precision_2: 0.7568 - val_recall_2: 0.7568 - val_f1_score: 0.4308\n",
            "\n",
            "Epoch 00017: val_loss did not improve from 0.50960\n",
            "Epoch 18/100\n",
            "21/21 [==============================] - 1s 68ms/step - loss: 0.4495 - accuracy: 0.7982 - precision_2: 0.7982 - recall_2: 0.7982 - f1_score: 0.4439 - val_loss: 0.5054 - val_accuracy: 0.7568 - val_precision_2: 0.7568 - val_recall_2: 0.7568 - val_f1_score: 0.4308\n",
            "\n",
            "Epoch 00018: val_loss improved from 0.50960 to 0.50544, saving model to /content/drive/MyDrive/Proyecto-MINSA/Dataset/Clasificacion/HGG-LGG/inceptionV3/best_model.hdf5\n",
            "Epoch 19/100\n",
            "21/21 [==============================] - 1s 70ms/step - loss: 0.4495 - accuracy: 0.7922 - precision_2: 0.7922 - recall_2: 0.7922 - f1_score: 0.4420 - val_loss: 0.4804 - val_accuracy: 0.7568 - val_precision_2: 0.7568 - val_recall_2: 0.7568 - val_f1_score: 0.4308\n",
            "\n",
            "Epoch 00019: val_loss improved from 0.50544 to 0.48039, saving model to /content/drive/MyDrive/Proyecto-MINSA/Dataset/Clasificacion/HGG-LGG/inceptionV3/best_model.hdf5\n",
            "Epoch 20/100\n",
            "21/21 [==============================] - 1s 69ms/step - loss: 0.4177 - accuracy: 0.8012 - precision_2: 0.8012 - recall_2: 0.8012 - f1_score: 0.4730 - val_loss: 0.5204 - val_accuracy: 0.7568 - val_precision_2: 0.7568 - val_recall_2: 0.7568 - val_f1_score: 0.4308\n",
            "\n",
            "Epoch 00020: val_loss did not improve from 0.48039\n",
            "Epoch 21/100\n",
            "21/21 [==============================] - 1s 69ms/step - loss: 0.3896 - accuracy: 0.8072 - precision_2: 0.8072 - recall_2: 0.8072 - f1_score: 0.4890 - val_loss: 0.4771 - val_accuracy: 0.7568 - val_precision_2: 0.7568 - val_recall_2: 0.7568 - val_f1_score: 0.4308\n",
            "\n",
            "Epoch 00021: val_loss improved from 0.48039 to 0.47710, saving model to /content/drive/MyDrive/Proyecto-MINSA/Dataset/Clasificacion/HGG-LGG/inceptionV3/best_model.hdf5\n",
            "Epoch 22/100\n",
            "21/21 [==============================] - 1s 69ms/step - loss: 0.3722 - accuracy: 0.7952 - precision_2: 0.7952 - recall_2: 0.7952 - f1_score: 0.4829 - val_loss: 0.4592 - val_accuracy: 0.7568 - val_precision_2: 0.7568 - val_recall_2: 0.7568 - val_f1_score: 0.4308\n",
            "\n",
            "Epoch 00022: val_loss improved from 0.47710 to 0.45920, saving model to /content/drive/MyDrive/Proyecto-MINSA/Dataset/Clasificacion/HGG-LGG/inceptionV3/best_model.hdf5\n",
            "Epoch 23/100\n",
            "21/21 [==============================] - 1s 69ms/step - loss: 0.3662 - accuracy: 0.8193 - precision_2: 0.8193 - recall_2: 0.8193 - f1_score: 0.5826 - val_loss: 0.4549 - val_accuracy: 0.7568 - val_precision_2: 0.7568 - val_recall_2: 0.7568 - val_f1_score: 0.4308\n",
            "\n",
            "Epoch 00023: val_loss improved from 0.45920 to 0.45485, saving model to /content/drive/MyDrive/Proyecto-MINSA/Dataset/Clasificacion/HGG-LGG/inceptionV3/best_model.hdf5\n",
            "Epoch 24/100\n",
            "21/21 [==============================] - 1s 68ms/step - loss: 0.3448 - accuracy: 0.8163 - precision_2: 0.8163 - recall_2: 0.8163 - f1_score: 0.5885 - val_loss: 0.4739 - val_accuracy: 0.7027 - val_precision_2: 0.7027 - val_recall_2: 0.7027 - val_f1_score: 0.5800\n",
            "\n",
            "Epoch 00024: val_loss did not improve from 0.45485\n",
            "Epoch 25/100\n",
            "21/21 [==============================] - 1s 69ms/step - loss: 0.3221 - accuracy: 0.8404 - precision_2: 0.8404 - recall_2: 0.8404 - f1_score: 0.7251 - val_loss: 0.5515 - val_accuracy: 0.6486 - val_precision_2: 0.6486 - val_recall_2: 0.6486 - val_f1_score: 0.6314\n",
            "\n",
            "Epoch 00025: val_loss did not improve from 0.45485\n",
            "Epoch 26/100\n",
            "21/21 [==============================] - 1s 69ms/step - loss: 0.3451 - accuracy: 0.8404 - precision_2: 0.8404 - recall_2: 0.8404 - f1_score: 0.7213 - val_loss: 0.5033 - val_accuracy: 0.6757 - val_precision_2: 0.6757 - val_recall_2: 0.6757 - val_f1_score: 0.6553\n",
            "\n",
            "Epoch 00026: val_loss did not improve from 0.45485\n",
            "Epoch 27/100\n",
            "21/21 [==============================] - 1s 69ms/step - loss: 0.3291 - accuracy: 0.8434 - precision_2: 0.8434 - recall_2: 0.8434 - f1_score: 0.7671 - val_loss: 0.5866 - val_accuracy: 0.6757 - val_precision_2: 0.6757 - val_recall_2: 0.6757 - val_f1_score: 0.5595\n",
            "\n",
            "Epoch 00027: val_loss did not improve from 0.45485\n",
            "Epoch 28/100\n",
            "21/21 [==============================] - 1s 70ms/step - loss: 0.3020 - accuracy: 0.8554 - precision_2: 0.8554 - recall_2: 0.8554 - f1_score: 0.7731 - val_loss: 0.4675 - val_accuracy: 0.7027 - val_precision_2: 0.7027 - val_recall_2: 0.7027 - val_f1_score: 0.6678\n",
            "\n",
            "Epoch 00028: val_loss did not improve from 0.45485\n",
            "Epoch 29/100\n",
            "21/21 [==============================] - 1s 69ms/step - loss: 0.2731 - accuracy: 0.8946 - precision_2: 0.8946 - recall_2: 0.8946 - f1_score: 0.8355 - val_loss: 0.4800 - val_accuracy: 0.7027 - val_precision_2: 0.7027 - val_recall_2: 0.7027 - val_f1_score: 0.6678\n",
            "\n",
            "Epoch 00029: val_loss did not improve from 0.45485\n",
            "Epoch 30/100\n",
            "21/21 [==============================] - 1s 69ms/step - loss: 0.2798 - accuracy: 0.8886 - precision_2: 0.8886 - recall_2: 0.8886 - f1_score: 0.8384 - val_loss: 0.5149 - val_accuracy: 0.6757 - val_precision_2: 0.6757 - val_recall_2: 0.6757 - val_f1_score: 0.6119\n",
            "\n",
            "Epoch 00030: val_loss did not improve from 0.45485\n",
            "Epoch 31/100\n",
            "21/21 [==============================] - 1s 69ms/step - loss: 0.2962 - accuracy: 0.8735 - precision_2: 0.8735 - recall_2: 0.8735 - f1_score: 0.8058 - val_loss: 0.5496 - val_accuracy: 0.6757 - val_precision_2: 0.6757 - val_recall_2: 0.6757 - val_f1_score: 0.6119\n",
            "\n",
            "Epoch 00031: val_loss did not improve from 0.45485\n",
            "Epoch 32/100\n",
            "21/21 [==============================] - 1s 69ms/step - loss: 0.2712 - accuracy: 0.8976 - precision_2: 0.8976 - recall_2: 0.8976 - f1_score: 0.8522 - val_loss: 0.6346 - val_accuracy: 0.7027 - val_precision_2: 0.7027 - val_recall_2: 0.7027 - val_f1_score: 0.6105\n",
            "\n",
            "Epoch 00032: val_loss did not improve from 0.45485\n",
            "Epoch 33/100\n",
            "21/21 [==============================] - 1s 70ms/step - loss: 0.3156 - accuracy: 0.8524 - precision_2: 0.8524 - recall_2: 0.8524 - f1_score: 0.7794 - val_loss: 0.5153 - val_accuracy: 0.6757 - val_precision_2: 0.6757 - val_recall_2: 0.6757 - val_f1_score: 0.6119\n",
            "\n",
            "Epoch 00033: val_loss did not improve from 0.45485\n",
            "Epoch 34/100\n",
            "21/21 [==============================] - 1s 68ms/step - loss: 0.2729 - accuracy: 0.9036 - precision_2: 0.9036 - recall_2: 0.9036 - f1_score: 0.8536 - val_loss: 0.5053 - val_accuracy: 0.7027 - val_precision_2: 0.7027 - val_recall_2: 0.7027 - val_f1_score: 0.6793\n",
            "\n",
            "Epoch 00034: val_loss did not improve from 0.45485\n",
            "Epoch 35/100\n",
            "21/21 [==============================] - 1s 68ms/step - loss: 0.2512 - accuracy: 0.9066 - precision_2: 0.9066 - recall_2: 0.9066 - f1_score: 0.8604 - val_loss: 0.5027 - val_accuracy: 0.7027 - val_precision_2: 0.7027 - val_recall_2: 0.7027 - val_f1_score: 0.6530\n",
            "\n",
            "Epoch 00035: val_loss did not improve from 0.45485\n",
            "Epoch 36/100\n",
            "21/21 [==============================] - 1s 69ms/step - loss: 0.2348 - accuracy: 0.9157 - precision_2: 0.9157 - recall_2: 0.9157 - f1_score: 0.8733 - val_loss: 0.5695 - val_accuracy: 0.7027 - val_precision_2: 0.7027 - val_recall_2: 0.7027 - val_f1_score: 0.6530\n",
            "\n",
            "Epoch 00036: val_loss did not improve from 0.45485\n",
            "Epoch 37/100\n",
            "21/21 [==============================] - 1s 68ms/step - loss: 0.2174 - accuracy: 0.9217 - precision_2: 0.9217 - recall_2: 0.9217 - f1_score: 0.8823 - val_loss: 0.5982 - val_accuracy: 0.6486 - val_precision_2: 0.6486 - val_recall_2: 0.6486 - val_f1_score: 0.6314\n",
            "\n",
            "Epoch 00037: val_loss did not improve from 0.45485\n",
            "Epoch 38/100\n",
            "21/21 [==============================] - 1s 69ms/step - loss: 0.2329 - accuracy: 0.9036 - precision_2: 0.9036 - recall_2: 0.9036 - f1_score: 0.8552 - val_loss: 0.6572 - val_accuracy: 0.7297 - val_precision_2: 0.7297 - val_recall_2: 0.7297 - val_f1_score: 0.6574\n",
            "\n",
            "Epoch 00038: val_loss did not improve from 0.45485\n",
            "Epoch 39/100\n",
            "21/21 [==============================] - 1s 69ms/step - loss: 0.2413 - accuracy: 0.9157 - precision_2: 0.9157 - recall_2: 0.9157 - f1_score: 0.8719 - val_loss: 0.6946 - val_accuracy: 0.7297 - val_precision_2: 0.7297 - val_recall_2: 0.7297 - val_f1_score: 0.6329\n",
            "\n",
            "Epoch 00039: val_loss did not improve from 0.45485\n",
            "Epoch 40/100\n",
            "21/21 [==============================] - 1s 69ms/step - loss: 0.2087 - accuracy: 0.9187 - precision_2: 0.9187 - recall_2: 0.9187 - f1_score: 0.8731 - val_loss: 0.5987 - val_accuracy: 0.7027 - val_precision_2: 0.7027 - val_recall_2: 0.7027 - val_f1_score: 0.6530\n",
            "\n",
            "Epoch 00040: val_loss did not improve from 0.45485\n",
            "Epoch 41/100\n",
            "21/21 [==============================] - 1s 69ms/step - loss: 0.2015 - accuracy: 0.9367 - precision_2: 0.9367 - recall_2: 0.9367 - f1_score: 0.9034 - val_loss: 0.6166 - val_accuracy: 0.7027 - val_precision_2: 0.7027 - val_recall_2: 0.7027 - val_f1_score: 0.6530\n",
            "\n",
            "Epoch 00041: val_loss did not improve from 0.45485\n",
            "Epoch 42/100\n",
            "21/21 [==============================] - 1s 69ms/step - loss: 0.1929 - accuracy: 0.9428 - precision_2: 0.9428 - recall_2: 0.9428 - f1_score: 0.9145 - val_loss: 0.6278 - val_accuracy: 0.7297 - val_precision_2: 0.7297 - val_recall_2: 0.7297 - val_f1_score: 0.6766\n",
            "\n",
            "Epoch 00042: val_loss did not improve from 0.45485\n",
            "Epoch 43/100\n",
            "21/21 [==============================] - 1s 69ms/step - loss: 0.1908 - accuracy: 0.9398 - precision_2: 0.9398 - recall_2: 0.9398 - f1_score: 0.9065 - val_loss: 0.6102 - val_accuracy: 0.7027 - val_precision_2: 0.7027 - val_recall_2: 0.7027 - val_f1_score: 0.6530\n",
            "\n",
            "Epoch 00043: val_loss did not improve from 0.45485\n",
            "Epoch 44/100\n",
            "21/21 [==============================] - 1s 70ms/step - loss: 0.2162 - accuracy: 0.9337 - precision_2: 0.9337 - recall_2: 0.9337 - f1_score: 0.9004 - val_loss: 0.9983 - val_accuracy: 0.6486 - val_precision_2: 0.6486 - val_recall_2: 0.6486 - val_f1_score: 0.4565\n",
            "\n",
            "Epoch 00044: val_loss did not improve from 0.45485\n",
            "Epoch 45/100\n",
            "21/21 [==============================] - 1s 69ms/step - loss: 0.3788 - accuracy: 0.8735 - precision_2: 0.8735 - recall_2: 0.8735 - f1_score: 0.8119 - val_loss: 0.8036 - val_accuracy: 0.7027 - val_precision_2: 0.7027 - val_recall_2: 0.7027 - val_f1_score: 0.5800\n",
            "\n",
            "Epoch 00045: val_loss did not improve from 0.45485\n",
            "Epoch 46/100\n",
            "21/21 [==============================] - 1s 70ms/step - loss: 0.2506 - accuracy: 0.9157 - precision_2: 0.9157 - recall_2: 0.9157 - f1_score: 0.8594 - val_loss: 0.7750 - val_accuracy: 0.6757 - val_precision_2: 0.6757 - val_recall_2: 0.6757 - val_f1_score: 0.5595\n",
            "\n",
            "Epoch 00046: val_loss did not improve from 0.45485\n",
            "Epoch 47/100\n",
            "21/21 [==============================] - 1s 70ms/step - loss: 0.1925 - accuracy: 0.9367 - precision_2: 0.9367 - recall_2: 0.9367 - f1_score: 0.9024 - val_loss: 0.6425 - val_accuracy: 0.7027 - val_precision_2: 0.7027 - val_recall_2: 0.7027 - val_f1_score: 0.6343\n",
            "\n",
            "Epoch 00047: val_loss did not improve from 0.45485\n",
            "Epoch 48/100\n",
            "21/21 [==============================] - 1s 70ms/step - loss: 0.1801 - accuracy: 0.9458 - precision_2: 0.9458 - recall_2: 0.9458 - f1_score: 0.9177 - val_loss: 0.6578 - val_accuracy: 0.6757 - val_precision_2: 0.6757 - val_recall_2: 0.6757 - val_f1_score: 0.6442\n",
            "\n",
            "Epoch 00048: val_loss did not improve from 0.45485\n",
            "Epoch 49/100\n",
            "21/21 [==============================] - 1s 69ms/step - loss: 0.1981 - accuracy: 0.9488 - precision_2: 0.9488 - recall_2: 0.9488 - f1_score: 0.9227 - val_loss: 0.7008 - val_accuracy: 0.7027 - val_precision_2: 0.7027 - val_recall_2: 0.7027 - val_f1_score: 0.6105\n",
            "\n",
            "Epoch 00049: val_loss did not improve from 0.45485\n",
            "Epoch 50/100\n",
            "21/21 [==============================] - 1s 69ms/step - loss: 0.1619 - accuracy: 0.9608 - precision_2: 0.9608 - recall_2: 0.9608 - f1_score: 0.9396 - val_loss: 0.6624 - val_accuracy: 0.6757 - val_precision_2: 0.6757 - val_recall_2: 0.6757 - val_f1_score: 0.6300\n",
            "\n",
            "Epoch 00050: val_loss did not improve from 0.45485\n",
            "Epoch 51/100\n",
            "21/21 [==============================] - 1s 69ms/step - loss: 0.1584 - accuracy: 0.9608 - precision_2: 0.9608 - recall_2: 0.9608 - f1_score: 0.9396 - val_loss: 0.7280 - val_accuracy: 0.6486 - val_precision_2: 0.6486 - val_recall_2: 0.6486 - val_f1_score: 0.6314\n",
            "\n",
            "Epoch 00051: val_loss did not improve from 0.45485\n",
            "Epoch 52/100\n",
            "21/21 [==============================] - 1s 69ms/step - loss: 0.1892 - accuracy: 0.9367 - precision_2: 0.9367 - recall_2: 0.9367 - f1_score: 0.9045 - val_loss: 0.7686 - val_accuracy: 0.6757 - val_precision_2: 0.6757 - val_recall_2: 0.6757 - val_f1_score: 0.6553\n",
            "\n",
            "Epoch 00052: val_loss did not improve from 0.45485\n",
            "Epoch 53/100\n",
            "21/21 [==============================] - 1s 69ms/step - loss: 0.1660 - accuracy: 0.9398 - precision_2: 0.9398 - recall_2: 0.9398 - f1_score: 0.9075 - val_loss: 0.7351 - val_accuracy: 0.6486 - val_precision_2: 0.6486 - val_recall_2: 0.6486 - val_f1_score: 0.6073\n",
            "\n",
            "Epoch 00053: val_loss did not improve from 0.45485\n",
            "Epoch 54/100\n",
            "21/21 [==============================] - 1s 69ms/step - loss: 0.1684 - accuracy: 0.9578 - precision_2: 0.9578 - recall_2: 0.9578 - f1_score: 0.9353 - val_loss: 0.7484 - val_accuracy: 0.7297 - val_precision_2: 0.7297 - val_recall_2: 0.7297 - val_f1_score: 0.6329\n",
            "\n",
            "Epoch 00054: val_loss did not improve from 0.45485\n",
            "Epoch 55/100\n",
            "21/21 [==============================] - 1s 69ms/step - loss: 0.1639 - accuracy: 0.9458 - precision_2: 0.9458 - recall_2: 0.9458 - f1_score: 0.9177 - val_loss: 0.7561 - val_accuracy: 0.7568 - val_precision_2: 0.7568 - val_recall_2: 0.7568 - val_f1_score: 0.6563\n",
            "\n",
            "Epoch 00055: val_loss did not improve from 0.45485\n",
            "Epoch 56/100\n",
            "21/21 [==============================] - 1s 69ms/step - loss: 0.1647 - accuracy: 0.9518 - precision_2: 0.9518 - recall_2: 0.9518 - f1_score: 0.9235 - val_loss: 0.7003 - val_accuracy: 0.7568 - val_precision_2: 0.7568 - val_recall_2: 0.7568 - val_f1_score: 0.6813\n",
            "\n",
            "Epoch 00056: val_loss did not improve from 0.45485\n",
            "Epoch 57/100\n",
            "21/21 [==============================] - 1s 70ms/step - loss: 0.1426 - accuracy: 0.9639 - precision_2: 0.9639 - recall_2: 0.9639 - f1_score: 0.9439 - val_loss: 0.6941 - val_accuracy: 0.7297 - val_precision_2: 0.7297 - val_recall_2: 0.7297 - val_f1_score: 0.6766\n",
            "\n",
            "Epoch 00057: val_loss did not improve from 0.45485\n",
            "Epoch 58/100\n",
            "21/21 [==============================] - 1s 70ms/step - loss: 0.1434 - accuracy: 0.9518 - precision_2: 0.9518 - recall_2: 0.9518 - f1_score: 0.9268 - val_loss: 0.7619 - val_accuracy: 0.7568 - val_precision_2: 0.7568 - val_recall_2: 0.7568 - val_f1_score: 0.6563\n",
            "\n",
            "Epoch 00058: val_loss did not improve from 0.45485\n",
            "Epoch 59/100\n",
            "21/21 [==============================] - 1s 70ms/step - loss: 0.1459 - accuracy: 0.9548 - precision_2: 0.9548 - recall_2: 0.9548 - f1_score: 0.9310 - val_loss: 0.7562 - val_accuracy: 0.7297 - val_precision_2: 0.7297 - val_recall_2: 0.7297 - val_f1_score: 0.6329\n",
            "\n",
            "Epoch 00059: val_loss did not improve from 0.45485\n",
            "Epoch 60/100\n",
            "21/21 [==============================] - 1s 71ms/step - loss: 0.1626 - accuracy: 0.9639 - precision_2: 0.9639 - recall_2: 0.9639 - f1_score: 0.9439 - val_loss: 0.7770 - val_accuracy: 0.6757 - val_precision_2: 0.6757 - val_recall_2: 0.6757 - val_f1_score: 0.6300\n",
            "\n",
            "Epoch 00060: val_loss did not improve from 0.45485\n",
            "Epoch 61/100\n",
            "21/21 [==============================] - 1s 70ms/step - loss: 0.1344 - accuracy: 0.9669 - precision_2: 0.9669 - recall_2: 0.9669 - f1_score: 0.9483 - val_loss: 0.7146 - val_accuracy: 0.7568 - val_precision_2: 0.7568 - val_recall_2: 0.7568 - val_f1_score: 0.7008\n",
            "\n",
            "Epoch 00061: val_loss did not improve from 0.45485\n",
            "Epoch 62/100\n",
            "21/21 [==============================] - 1s 71ms/step - loss: 0.1321 - accuracy: 0.9729 - precision_2: 0.9729 - recall_2: 0.9729 - f1_score: 0.9582 - val_loss: 0.7431 - val_accuracy: 0.7568 - val_precision_2: 0.7568 - val_recall_2: 0.7568 - val_f1_score: 0.7008\n",
            "\n",
            "Epoch 00062: val_loss did not improve from 0.45485\n",
            "Epoch 63/100\n",
            "21/21 [==============================] - 1s 69ms/step - loss: 0.1342 - accuracy: 0.9669 - precision_2: 0.9669 - recall_2: 0.9669 - f1_score: 0.9483 - val_loss: 0.7522 - val_accuracy: 0.7568 - val_precision_2: 0.7568 - val_recall_2: 0.7568 - val_f1_score: 0.7008\n",
            "\n",
            "Epoch 00063: val_loss did not improve from 0.45485\n",
            "Epoch 64/100\n",
            "21/21 [==============================] - 1s 70ms/step - loss: 0.1375 - accuracy: 0.9699 - precision_2: 0.9699 - recall_2: 0.9699 - f1_score: 0.9533 - val_loss: 0.7483 - val_accuracy: 0.7568 - val_precision_2: 0.7568 - val_recall_2: 0.7568 - val_f1_score: 0.7008\n",
            "\n",
            "Epoch 00064: val_loss did not improve from 0.45485\n",
            "Epoch 65/100\n",
            "21/21 [==============================] - 1s 70ms/step - loss: 0.1307 - accuracy: 0.9729 - precision_2: 0.9729 - recall_2: 0.9729 - f1_score: 0.9582 - val_loss: 0.7314 - val_accuracy: 0.7568 - val_precision_2: 0.7568 - val_recall_2: 0.7568 - val_f1_score: 0.7008\n",
            "\n",
            "Epoch 00065: val_loss did not improve from 0.45485\n",
            "Epoch 66/100\n",
            "21/21 [==============================] - 1s 69ms/step - loss: 0.1257 - accuracy: 0.9669 - precision_2: 0.9669 - recall_2: 0.9669 - f1_score: 0.9483 - val_loss: 0.7749 - val_accuracy: 0.7297 - val_precision_2: 0.7297 - val_recall_2: 0.7297 - val_f1_score: 0.6766\n",
            "\n",
            "Epoch 00066: val_loss did not improve from 0.45485\n",
            "Epoch 67/100\n",
            "21/21 [==============================] - 1s 69ms/step - loss: 0.1054 - accuracy: 0.9759 - precision_2: 0.9759 - recall_2: 0.9759 - f1_score: 0.9626 - val_loss: 0.7302 - val_accuracy: 0.7568 - val_precision_2: 0.7568 - val_recall_2: 0.7568 - val_f1_score: 0.7008\n",
            "\n",
            "Epoch 00067: val_loss did not improve from 0.45485\n",
            "Epoch 68/100\n",
            "21/21 [==============================] - 1s 70ms/step - loss: 0.1017 - accuracy: 0.9729 - precision_2: 0.9729 - recall_2: 0.9729 - f1_score: 0.9582 - val_loss: 0.7160 - val_accuracy: 0.7838 - val_precision_2: 0.7838 - val_recall_2: 0.7838 - val_f1_score: 0.7259\n",
            "\n",
            "Epoch 00068: val_loss did not improve from 0.45485\n",
            "Epoch 69/100\n",
            "21/21 [==============================] - 1s 70ms/step - loss: 0.1128 - accuracy: 0.9729 - precision_2: 0.9729 - recall_2: 0.9729 - f1_score: 0.9582 - val_loss: 0.8035 - val_accuracy: 0.7568 - val_precision_2: 0.7568 - val_recall_2: 0.7568 - val_f1_score: 0.6563\n",
            "\n",
            "Epoch 00069: val_loss did not improve from 0.45485\n",
            "Epoch 70/100\n",
            "21/21 [==============================] - 1s 69ms/step - loss: 0.1232 - accuracy: 0.9699 - precision_2: 0.9699 - recall_2: 0.9699 - f1_score: 0.9527 - val_loss: 0.7503 - val_accuracy: 0.7838 - val_precision_2: 0.7838 - val_recall_2: 0.7838 - val_f1_score: 0.7259\n",
            "\n",
            "Epoch 00070: val_loss did not improve from 0.45485\n",
            "Epoch 71/100\n",
            "21/21 [==============================] - 1s 69ms/step - loss: 0.1050 - accuracy: 0.9639 - precision_2: 0.9639 - recall_2: 0.9639 - f1_score: 0.9439 - val_loss: 0.9309 - val_accuracy: 0.6757 - val_precision_2: 0.6757 - val_recall_2: 0.6757 - val_f1_score: 0.6300\n",
            "\n",
            "Epoch 00071: val_loss did not improve from 0.45485\n",
            "Epoch 72/100\n",
            "21/21 [==============================] - 1s 70ms/step - loss: 0.1301 - accuracy: 0.9729 - precision_2: 0.9729 - recall_2: 0.9729 - f1_score: 0.9582 - val_loss: 0.8227 - val_accuracy: 0.7297 - val_precision_2: 0.7297 - val_recall_2: 0.7297 - val_f1_score: 0.6766\n",
            "\n",
            "Epoch 00072: val_loss did not improve from 0.45485\n",
            "Epoch 73/100\n",
            "21/21 [==============================] - 1s 71ms/step - loss: 0.1136 - accuracy: 0.9699 - precision_2: 0.9699 - recall_2: 0.9699 - f1_score: 0.9533 - val_loss: 0.9526 - val_accuracy: 0.6216 - val_precision_2: 0.6216 - val_recall_2: 0.6216 - val_f1_score: 0.5849\n",
            "\n",
            "Epoch 00073: val_loss did not improve from 0.45485\n",
            "Epoch 74/100\n",
            "21/21 [==============================] - 1s 70ms/step - loss: 0.1191 - accuracy: 0.9729 - precision_2: 0.9729 - recall_2: 0.9729 - f1_score: 0.9582 - val_loss: 0.7935 - val_accuracy: 0.7568 - val_precision_2: 0.7568 - val_recall_2: 0.7568 - val_f1_score: 0.6813\n",
            "\n",
            "Epoch 00074: val_loss did not improve from 0.45485\n",
            "Epoch 75/100\n",
            "21/21 [==============================] - 1s 69ms/step - loss: 0.1226 - accuracy: 0.9729 - precision_2: 0.9729 - recall_2: 0.9729 - f1_score: 0.9582 - val_loss: 0.7822 - val_accuracy: 0.7568 - val_precision_2: 0.7568 - val_recall_2: 0.7568 - val_f1_score: 0.7008\n",
            "\n",
            "Epoch 00075: val_loss did not improve from 0.45485\n",
            "Epoch 76/100\n",
            "21/21 [==============================] - 1s 70ms/step - loss: 0.1032 - accuracy: 0.9699 - precision_2: 0.9699 - recall_2: 0.9699 - f1_score: 0.9527 - val_loss: 0.7213 - val_accuracy: 0.7027 - val_precision_2: 0.7027 - val_recall_2: 0.7027 - val_f1_score: 0.6343\n",
            "\n",
            "Epoch 00076: val_loss did not improve from 0.45485\n",
            "Epoch 77/100\n",
            "21/21 [==============================] - 1s 71ms/step - loss: 0.1043 - accuracy: 0.9729 - precision_2: 0.9729 - recall_2: 0.9729 - f1_score: 0.9582 - val_loss: 1.2897 - val_accuracy: 0.6216 - val_precision_2: 0.6216 - val_recall_2: 0.6216 - val_f1_score: 0.5978\n",
            "\n",
            "Epoch 00077: val_loss did not improve from 0.45485\n",
            "Epoch 78/100\n",
            "21/21 [==============================] - 1s 69ms/step - loss: 0.1252 - accuracy: 0.9639 - precision_2: 0.9639 - recall_2: 0.9639 - f1_score: 0.9426 - val_loss: 1.2016 - val_accuracy: 0.6216 - val_precision_2: 0.6216 - val_recall_2: 0.6216 - val_f1_score: 0.5849\n",
            "\n",
            "Epoch 00078: val_loss did not improve from 0.45485\n",
            "Epoch 79/100\n",
            "21/21 [==============================] - 1s 71ms/step - loss: 0.1167 - accuracy: 0.9699 - precision_2: 0.9699 - recall_2: 0.9699 - f1_score: 0.9543 - val_loss: 0.8400 - val_accuracy: 0.7568 - val_precision_2: 0.7568 - val_recall_2: 0.7568 - val_f1_score: 0.7008\n",
            "\n",
            "Epoch 00079: val_loss did not improve from 0.45485\n",
            "Epoch 80/100\n",
            "21/21 [==============================] - 1s 70ms/step - loss: 0.1107 - accuracy: 0.9699 - precision_2: 0.9699 - recall_2: 0.9699 - f1_score: 0.9527 - val_loss: 1.0358 - val_accuracy: 0.6757 - val_precision_2: 0.6757 - val_recall_2: 0.6757 - val_f1_score: 0.6300\n",
            "\n",
            "Epoch 00080: val_loss did not improve from 0.45485\n",
            "Epoch 81/100\n",
            "21/21 [==============================] - 1s 71ms/step - loss: 0.1069 - accuracy: 0.9699 - precision_2: 0.9699 - recall_2: 0.9699 - f1_score: 0.9543 - val_loss: 0.8712 - val_accuracy: 0.7568 - val_precision_2: 0.7568 - val_recall_2: 0.7568 - val_f1_score: 0.6813\n",
            "\n",
            "Epoch 00081: val_loss did not improve from 0.45485\n",
            "Epoch 82/100\n",
            "21/21 [==============================] - 1s 70ms/step - loss: 0.0925 - accuracy: 0.9789 - precision_2: 0.9789 - recall_2: 0.9789 - f1_score: 0.9671 - val_loss: 0.8805 - val_accuracy: 0.7027 - val_precision_2: 0.7027 - val_recall_2: 0.7027 - val_f1_score: 0.6530\n",
            "\n",
            "Epoch 00082: val_loss did not improve from 0.45485\n",
            "Epoch 83/100\n",
            "21/21 [==============================] - 1s 71ms/step - loss: 0.0767 - accuracy: 0.9880 - precision_2: 0.9880 - recall_2: 0.9880 - f1_score: 0.9815 - val_loss: 0.8572 - val_accuracy: 0.7027 - val_precision_2: 0.7027 - val_recall_2: 0.7027 - val_f1_score: 0.6530\n",
            "\n",
            "Epoch 00083: val_loss did not improve from 0.45485\n",
            "Epoch 84/100\n",
            "21/21 [==============================] - 1s 69ms/step - loss: 0.0631 - accuracy: 0.9910 - precision_2: 0.9910 - recall_2: 0.9910 - f1_score: 0.9861 - val_loss: 1.0596 - val_accuracy: 0.6486 - val_precision_2: 0.6486 - val_recall_2: 0.6486 - val_f1_score: 0.6073\n",
            "\n",
            "Epoch 00084: val_loss did not improve from 0.45485\n",
            "Epoch 85/100\n",
            "21/21 [==============================] - 1s 70ms/step - loss: 0.0581 - accuracy: 0.9849 - precision_2: 0.9849 - recall_2: 0.9849 - f1_score: 0.9765 - val_loss: 1.1000 - val_accuracy: 0.6216 - val_precision_2: 0.6216 - val_recall_2: 0.6216 - val_f1_score: 0.5849\n",
            "\n",
            "Epoch 00085: val_loss did not improve from 0.45485\n",
            "Epoch 86/100\n",
            "21/21 [==============================] - 1s 69ms/step - loss: 0.0825 - accuracy: 0.9699 - precision_2: 0.9699 - recall_2: 0.9699 - f1_score: 0.9533 - val_loss: 1.2852 - val_accuracy: 0.6486 - val_precision_2: 0.6486 - val_recall_2: 0.6486 - val_f1_score: 0.6210\n",
            "\n",
            "Epoch 00086: val_loss did not improve from 0.45485\n",
            "Epoch 87/100\n",
            "21/21 [==============================] - 1s 71ms/step - loss: 0.1148 - accuracy: 0.9608 - precision_2: 0.9608 - recall_2: 0.9608 - f1_score: 0.9367 - val_loss: 0.8089 - val_accuracy: 0.6757 - val_precision_2: 0.6757 - val_recall_2: 0.6757 - val_f1_score: 0.5889\n",
            "\n",
            "Epoch 00087: val_loss did not improve from 0.45485\n",
            "Epoch 88/100\n",
            "21/21 [==============================] - 1s 71ms/step - loss: 0.1533 - accuracy: 0.9488 - precision_2: 0.9488 - recall_2: 0.9488 - f1_score: 0.9210 - val_loss: 1.1098 - val_accuracy: 0.6216 - val_precision_2: 0.6216 - val_recall_2: 0.6216 - val_f1_score: 0.5849\n",
            "\n",
            "Epoch 00088: val_loss did not improve from 0.45485\n",
            "Epoch 89/100\n",
            "21/21 [==============================] - 1s 71ms/step - loss: 0.1023 - accuracy: 0.9669 - precision_2: 0.9669 - recall_2: 0.9669 - f1_score: 0.9494 - val_loss: 1.0001 - val_accuracy: 0.5946 - val_precision_2: 0.5946 - val_recall_2: 0.5946 - val_f1_score: 0.5269\n",
            "\n",
            "Epoch 00089: val_loss did not improve from 0.45485\n",
            "Epoch 90/100\n",
            "21/21 [==============================] - 1s 69ms/step - loss: 0.0868 - accuracy: 0.9789 - precision_2: 0.9789 - recall_2: 0.9789 - f1_score: 0.9678 - val_loss: 1.1335 - val_accuracy: 0.6486 - val_precision_2: 0.6486 - val_recall_2: 0.6486 - val_f1_score: 0.6210\n",
            "\n",
            "Epoch 00090: val_loss did not improve from 0.45485\n",
            "Epoch 91/100\n",
            "21/21 [==============================] - 1s 71ms/step - loss: 0.0698 - accuracy: 0.9819 - precision_2: 0.9819 - recall_2: 0.9819 - f1_score: 0.9723 - val_loss: 0.9659 - val_accuracy: 0.7568 - val_precision_2: 0.7568 - val_recall_2: 0.7568 - val_f1_score: 0.6237\n",
            "\n",
            "Epoch 00091: val_loss did not improve from 0.45485\n",
            "Epoch 92/100\n",
            "21/21 [==============================] - 1s 71ms/step - loss: 0.0902 - accuracy: 0.9699 - precision_2: 0.9699 - recall_2: 0.9699 - f1_score: 0.9533 - val_loss: 1.0510 - val_accuracy: 0.7297 - val_precision_2: 0.7297 - val_recall_2: 0.7297 - val_f1_score: 0.6329\n",
            "\n",
            "Epoch 00092: val_loss did not improve from 0.45485\n",
            "Epoch 93/100\n",
            "21/21 [==============================] - 1s 71ms/step - loss: 0.0737 - accuracy: 0.9789 - precision_2: 0.9789 - recall_2: 0.9789 - f1_score: 0.9678 - val_loss: 0.9277 - val_accuracy: 0.7027 - val_precision_2: 0.7027 - val_recall_2: 0.7027 - val_f1_score: 0.6530\n",
            "\n",
            "Epoch 00093: val_loss did not improve from 0.45485\n",
            "Epoch 94/100\n",
            "21/21 [==============================] - 1s 71ms/step - loss: 0.1200 - accuracy: 0.9578 - precision_2: 0.9578 - recall_2: 0.9578 - f1_score: 0.9360 - val_loss: 1.2408 - val_accuracy: 0.6486 - val_precision_2: 0.6486 - val_recall_2: 0.6486 - val_f1_score: 0.6210\n",
            "\n",
            "Epoch 00094: val_loss did not improve from 0.45485\n",
            "Epoch 95/100\n",
            "21/21 [==============================] - 1s 71ms/step - loss: 0.0934 - accuracy: 0.9729 - precision_2: 0.9729 - recall_2: 0.9729 - f1_score: 0.9582 - val_loss: 0.9594 - val_accuracy: 0.6486 - val_precision_2: 0.6486 - val_recall_2: 0.6486 - val_f1_score: 0.6073\n",
            "\n",
            "Epoch 00095: val_loss did not improve from 0.45485\n",
            "Epoch 96/100\n",
            "21/21 [==============================] - 1s 71ms/step - loss: 0.0981 - accuracy: 0.9699 - precision_2: 0.9699 - recall_2: 0.9699 - f1_score: 0.9527 - val_loss: 1.1749 - val_accuracy: 0.6216 - val_precision_2: 0.6216 - val_recall_2: 0.6216 - val_f1_score: 0.5849\n",
            "\n",
            "Epoch 00096: val_loss did not improve from 0.45485\n",
            "Epoch 97/100\n",
            "21/21 [==============================] - 1s 71ms/step - loss: 0.0774 - accuracy: 0.9789 - precision_2: 0.9789 - recall_2: 0.9789 - f1_score: 0.9675 - val_loss: 1.0539 - val_accuracy: 0.6757 - val_precision_2: 0.6757 - val_recall_2: 0.6757 - val_f1_score: 0.6300\n",
            "\n",
            "Epoch 00097: val_loss did not improve from 0.45485\n",
            "Epoch 98/100\n",
            "21/21 [==============================] - 1s 72ms/step - loss: 0.0398 - accuracy: 0.9880 - precision_2: 0.9880 - recall_2: 0.9880 - f1_score: 0.9817 - val_loss: 0.9171 - val_accuracy: 0.7297 - val_precision_2: 0.7297 - val_recall_2: 0.7297 - val_f1_score: 0.6766\n",
            "\n",
            "Epoch 00098: val_loss did not improve from 0.45485\n",
            "Epoch 99/100\n",
            "21/21 [==============================] - 1s 71ms/step - loss: 0.0360 - accuracy: 0.9970 - precision_2: 0.9970 - recall_2: 0.9970 - f1_score: 0.9954 - val_loss: 1.2200 - val_accuracy: 0.6216 - val_precision_2: 0.6216 - val_recall_2: 0.6216 - val_f1_score: 0.5849\n",
            "\n",
            "Epoch 00099: val_loss did not improve from 0.45485\n",
            "Epoch 100/100\n",
            "21/21 [==============================] - 1s 69ms/step - loss: 0.0484 - accuracy: 0.9819 - precision_2: 0.9819 - recall_2: 0.9819 - f1_score: 0.9720 - val_loss: 1.1877 - val_accuracy: 0.6757 - val_precision_2: 0.6757 - val_recall_2: 0.6757 - val_f1_score: 0.6300\n",
            "\n",
            "Epoch 00100: val_loss did not improve from 0.45485\n",
            "CPU times: user 2min 14s, sys: 12 s, total: 2min 26s\n",
            "Wall time: 3min 31s\n"
          ]
        }
      ]
    },
    {
      "cell_type": "code",
      "metadata": {
        "id": "-NASW4Nn1rSz"
      },
      "source": [
        "def get_results(model, history):\n",
        "  print('-'*100)\n",
        "  print('-'*100)\n",
        "  \"\"\"result = model.evaluate(np.array(data_test), np.array(target_test))\n",
        "  print('-'*20)\n",
        "  for name, value in zip(model.metrics_names, result):\n",
        "    print(name, value)\"\"\"\n",
        "  \n",
        "  print('-'*100)\n",
        "  plt.plot(history.history['accuracy'])\n",
        "  plt.plot(history.history['val_accuracy'])\n",
        "  plt.title('model accuracy')\n",
        "  plt.ylabel('accuracy')\n",
        "  plt.xlabel('epoch')\n",
        "  plt.legend(['train', 'validation'], loc='upper left')\n",
        "  #plt.savefig('destination_path.eps', format='eps', dpi=1000)\n",
        "  plt.show()\n",
        "\n",
        "  print('-'*100)\n",
        "\n",
        "  plt.plot(history.history['loss'])\n",
        "  plt.plot(history.history['val_loss'])\n",
        "  plt.title('model loss')\n",
        "  plt.ylabel('loss')\n",
        "  plt.xlabel('epoch')\n",
        "  plt.legend(['train', 'validation'], loc='upper left')\n",
        "  #plt.savefig('destination_path1.eps', format='eps', dpi=1000)\n",
        "  plt.show()\n",
        "  print('-'*100)"
      ],
      "execution_count": null,
      "outputs": []
    },
    {
      "cell_type": "code",
      "metadata": {
        "id": "tWwQbzjpfEKK",
        "colab": {
          "base_uri": "https://localhost:8080/",
          "height": 658
        },
        "outputId": "7f58119c-9b2e-4f06-d9ab-59c5fd8947d0"
      },
      "source": [
        "get_results(sequence_model,history)"
      ],
      "execution_count": null,
      "outputs": [
        {
          "output_type": "stream",
          "name": "stdout",
          "text": [
            "----------------------------------------------------------------------------------------------------\n",
            "----------------------------------------------------------------------------------------------------\n",
            "----------------------------------------------------------------------------------------------------\n"
          ]
        },
        {
          "output_type": "display_data",
          "data": {
            "image/png": "[encoded data removed]",
            "text/plain": [
              "<Figure size 432x288 with 1 Axes>"
            ]
          },
          "metadata": {
            "needs_background": "light"
          }
        },
        {
          "output_type": "stream",
          "name": "stdout",
          "text": [
            "----------------------------------------------------------------------------------------------------\n"
          ]
        },
        {
          "output_type": "display_data",
          "data": {
            "image/png": "[encoded data removed]",
            "text/plain": [
              "<Figure size 432x288 with 1 Axes>"
            ]
          },
          "metadata": {
            "needs_background": "light"
          }
        },
        {
          "output_type": "stream",
          "name": "stdout",
          "text": [
            "----------------------------------------------------------------------------------------------------\n"
          ]
        }
      ]
    },
    {
      "cell_type": "code",
      "metadata": {
        "id": "DkSvusaT1y4M"
      },
      "source": [
        ""
      ],
      "execution_count": null,
      "outputs": []
    }
  ]
}